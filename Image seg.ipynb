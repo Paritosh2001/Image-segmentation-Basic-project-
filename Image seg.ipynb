{
 "cells": [
  {
   "cell_type": "code",
   "execution_count": 8,
   "metadata": {},
   "outputs": [],
   "source": [
    "import pixellib\n",
    "from pixellib.instance import instance_segmentation\n"
   ]
  },
  {
   "cell_type": "code",
   "execution_count": 9,
   "metadata": {},
   "outputs": [
    {
     "name": "stdout",
     "output_type": "stream",
     "text": [
      "Processed image saved successfully in your current working directory.\n"
     ]
    },
    {
     "data": {
      "text/plain": [
       "({'rois': array([[ 29,  64, 346, 272],\n",
       "         [  0, 325, 347, 498],\n",
       "         [  6, 468, 348, 605],\n",
       "         [153, 326, 167, 361]]),\n",
       "  'class_ids': array([ 1,  1,  1, 68]),\n",
       "  'scores': array([0.99994874, 0.9999169 , 0.9995813 , 0.98474056], dtype=float32),\n",
       "  'masks': array([[[False, False, False, False],\n",
       "          [False, False, False, False],\n",
       "          [False, False, False, False],\n",
       "          ...,\n",
       "          [False, False, False, False],\n",
       "          [False, False, False, False],\n",
       "          [False, False, False, False]],\n",
       "  \n",
       "         [[False, False, False, False],\n",
       "          [False, False, False, False],\n",
       "          [False, False, False, False],\n",
       "          ...,\n",
       "          [False, False, False, False],\n",
       "          [False, False, False, False],\n",
       "          [False, False, False, False]],\n",
       "  \n",
       "         [[False, False, False, False],\n",
       "          [False, False, False, False],\n",
       "          [False, False, False, False],\n",
       "          ...,\n",
       "          [False, False, False, False],\n",
       "          [False, False, False, False],\n",
       "          [False, False, False, False]],\n",
       "  \n",
       "         ...,\n",
       "  \n",
       "         [[False, False, False, False],\n",
       "          [False, False, False, False],\n",
       "          [False, False, False, False],\n",
       "          ...,\n",
       "          [False, False, False, False],\n",
       "          [False, False, False, False],\n",
       "          [False, False, False, False]],\n",
       "  \n",
       "         [[False, False, False, False],\n",
       "          [False, False, False, False],\n",
       "          [False, False, False, False],\n",
       "          ...,\n",
       "          [False, False, False, False],\n",
       "          [False, False, False, False],\n",
       "          [False, False, False, False]],\n",
       "  \n",
       "         [[False, False, False, False],\n",
       "          [False, False, False, False],\n",
       "          [False, False, False, False],\n",
       "          ...,\n",
       "          [False, False, False, False],\n",
       "          [False, False, False, False],\n",
       "          [False, False, False, False]]])},\n",
       " array([[[207, 171, 131],\n",
       "         [207, 171, 131],\n",
       "         [205, 172, 130],\n",
       "         ...,\n",
       "         [185, 152, 130],\n",
       "         [183, 152, 130],\n",
       "         [182, 153, 133]],\n",
       " \n",
       "        [[207, 171, 131],\n",
       "         [207, 171, 131],\n",
       "         [205, 172, 130],\n",
       "         ...,\n",
       "         [183, 152, 130],\n",
       "         [182, 151, 129],\n",
       "         [181, 152, 131]],\n",
       " \n",
       "        [[207, 171, 131],\n",
       "         [207, 171, 131],\n",
       "         [207, 171, 130],\n",
       "         ...,\n",
       "         [182, 151, 129],\n",
       "         [182, 151, 129],\n",
       "         [181, 152, 131]],\n",
       " \n",
       "        ...,\n",
       " \n",
       "        [[195, 199, 201],\n",
       "         [195, 199, 201],\n",
       "         [196, 200, 202],\n",
       "         ...,\n",
       "         [184, 189, 195],\n",
       "         [184, 189, 195],\n",
       "         [184, 189, 195]],\n",
       " \n",
       "        [[195, 199, 201],\n",
       "         [195, 199, 201],\n",
       "         [195, 199, 201],\n",
       "         ...,\n",
       "         [184, 189, 195],\n",
       "         [184, 189, 195],\n",
       "         [184, 189, 195]],\n",
       " \n",
       "        [[193, 197, 198],\n",
       "         [193, 197, 198],\n",
       "         [193, 197, 198],\n",
       "         ...,\n",
       "         [184, 189, 195],\n",
       "         [184, 189, 195],\n",
       "         [184, 189, 195]]], dtype=uint8))"
      ]
     },
     "execution_count": 9,
     "metadata": {},
     "output_type": "execute_result"
    }
   ],
   "source": [
    "segment_image = instance_segmentation()\n",
    "segment_image.load_model(\"C:/DATASET/mask_rcnn_coco.h5\") \n",
    "segment_image.segmentImage(\"image/___/_____.png\", show_bboxes = True, output_image_name = \"output4.jpg\")"
   ]
  },
  {
   "cell_type": "code",
   "execution_count": null,
   "metadata": {},
   "outputs": [],
   "source": []
  }
 ],
 "metadata": {
  "kernelspec": {
   "display_name": "Python 3",
   "language": "python",
   "name": "python3"
  },
  "language_info": {
   "codemirror_mode": {
    "name": "ipython",
    "version": 3
   },
   "file_extension": ".py",
   "mimetype": "text/x-python",
   "name": "python",
   "nbconvert_exporter": "python",
   "pygments_lexer": "ipython3",
   "version": "3.7.9"
  }
 },
 "nbformat": 4,
 "nbformat_minor": 4
}
